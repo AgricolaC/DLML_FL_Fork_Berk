{
  "nbformat": 4,
  "nbformat_minor": 0,
  "metadata": {
    "colab": {
      "provenance": [],
      "authorship_tag": "ABX9TyN8hF7B37f44atUObrXYbVD",
      "include_colab_link": true
    },
    "kernelspec": {
      "name": "python3",
      "display_name": "Python 3"
    },
    "language_info": {
      "name": "python"
    }
  },
  "cells": [
    {
      "cell_type": "markdown",
      "metadata": {
        "id": "view-in-github",
        "colab_type": "text"
      },
      "source": [
        "<a href=\"https://colab.research.google.com/github/thestbobo/DLML_FL_project/blob/main/colab_runner.ipynb\" target=\"_parent\"><img src=\"https://colab.research.google.com/assets/colab-badge.svg\" alt=\"Open In Colab\"/></a>"
      ]
    },
    {
      "cell_type": "markdown",
      "source": [
        "**Environment Setup**"
      ],
      "metadata": {
        "id": "L51bSihQEz-a"
      }
    },
    {
      "cell_type": "code",
      "execution_count": null,
      "metadata": {
        "id": "f1EUz3AzEYn9"
      },
      "outputs": [],
      "source": [
        "# Clone GitHub repository\n",
        "!git clone https://github.com/thestbobo/DLML_FL_project.git\n",
        "%cd DLML_FL_project\n",
        "\n",
        "# Install dependencies\n",
        "!pip install -r requirements.txt"
      ]
    },
    {
      "cell_type": "markdown",
      "source": [
        "**Environment check**"
      ],
      "metadata": {
        "id": "Fq6CSsDxFl_c"
      }
    },
    {
      "cell_type": "code",
      "source": [
        "import torch\n",
        "print(\"CUDA avaiable:\", torch.cuda.is_available())"
      ],
      "metadata": {
        "id": "WLGGMmyHFqbr"
      },
      "execution_count": null,
      "outputs": []
    },
    {
      "cell_type": "markdown",
      "source": [
        "**Load Configuration (hyperparameters) and Paths (in/out)**\n",
        "\n",
        "-Example file for config.yaml\n",
        "\n",
        "batch_size: 64\n",
        "\n",
        "lr: 0.01\n",
        "\n",
        "-Example of code usage:\n",
        "\n",
        "print(config[\"batch_size\"]) --> 64\n"
      ],
      "metadata": {
        "id": "rufqzKaaF7xs"
      }
    },
    {
      "cell_type": "code",
      "source": [
        "import yaml\n",
        "from pathlib import Path\n",
        "\n",
        "# load YAML config\n",
        "with open(\"experimentS/config.yaml\") as f:\n",
        "  config = yaml.safe_load(f)\n",
        "\n",
        "# Setup paths and device\n",
        "DATA_DIR = Path(\"./data\")\n",
        "DEVICE= torch.device(\"cuda\" if torch.cuda.is_available() else \"cpu\")"
      ],
      "metadata": {
        "id": "KlJG1U1WGeiN"
      },
      "execution_count": null,
      "outputs": []
    },
    {
      "cell_type": "markdown",
      "source": [
        "**Data preparation**"
      ],
      "metadata": {
        "id": "GWXm9o8CLNxk"
      }
    },
    {
      "cell_type": "code",
      "source": [
        "from data.prepare_data import get_cifar100_loaders\n",
        "\n",
        "train_loader, val_loader, test_loader = get_cifar100_loaders(data_dir=DATA_DIR, val_split=config[\"val_split\"], config[\"batch_size\"], config[\"num_workers\"])\n",
        "for batch in train_loader:\n",
        "    x, y = batch\n",
        "    print(\"Train batch shape:\", x.shape, y.shape)\n",
        "    break\n"
      ],
      "metadata": {
        "id": "mue_PdlpLMY_"
      },
      "execution_count": null,
      "outputs": []
    }
  ]
}